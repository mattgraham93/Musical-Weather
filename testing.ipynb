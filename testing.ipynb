{
 "cells": [
  {
   "cell_type": "code",
   "execution_count": 1,
   "metadata": {},
   "outputs": [
    {
     "name": "stdout",
     "output_type": "stream",
     "text": [
      "Getting weather data for Seattle\n",
      "Coordinates 52.5483283996582°N 13.407821655273438°E\n",
      "Elevation 38.0 m asl\n",
      "Timezone None None\n",
      "Timezone difference to GMT+0 0 s\n",
      "Getting weather codes\n",
      "Analyzing and weighing weather data\n",
      "Storing weather data...\n",
      "Weather data stored.\n"
     ]
    }
   ],
   "source": [
    "import weather\n",
    "import mongodb\n",
    "import pandas as pd\n",
    "import numpy as np \n",
    "\n",
    "first_time = True\n",
    "\n",
    "if first_time:\n",
    "    historical_weather, condensed = weather.weather_main()\n",
    "    print(\"Storing weather data...\")\n",
    "    weather.store_weather_data(historical_weather, \"historical_raw\")\n",
    "    weather.store_weather_data(condensed, \"historical_summary\")\n",
    "    print(\"Weather data stored.\")\n",
    "    \n"
   ]
  }
 ],
 "metadata": {
  "kernelspec": {
   "display_name": "base",
   "language": "python",
   "name": "python3"
  },
  "language_info": {
   "codemirror_mode": {
    "name": "ipython",
    "version": 3
   },
   "file_extension": ".py",
   "mimetype": "text/x-python",
   "name": "python",
   "nbconvert_exporter": "python",
   "pygments_lexer": "ipython3",
   "version": "3.11.7"
  }
 },
 "nbformat": 4,
 "nbformat_minor": 2
}
