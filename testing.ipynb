{
 "cells": [
  {
   "cell_type": "code",
   "execution_count": 1,
   "metadata": {},
   "outputs": [],
   "source": [
    "import weather\n",
    "import mongodb\n",
    "import pandas as pd\n",
    "import numpy as np "
   ]
  },
  {
   "cell_type": "code",
   "execution_count": 2,
   "metadata": {},
   "outputs": [
    {
     "name": "stdout",
     "output_type": "stream",
     "text": [
      "Getting weather data for Seattle\n",
      "Coordinates 52.5483283996582°N 13.407821655273438°E\n",
      "Elevation 38.0 m asl\n",
      "Timezone None None\n",
      "Timezone difference to GMT+0 0 s\n",
      "Getting weather codes\n",
      "Analyzing and weighing weather data\n",
      "Getting today's forecast\n",
      "Coordinates 52.52000045776367°N 13.419998168945312°E\n",
      "Elevation 38.0 m asl\n",
      "Timezone b'America/Los_Angeles' b'PDT'\n",
      "Timezone difference to GMT+0 -25200 s\n",
      "Storing historical weather data...\n",
      "Storing historical summary data...\n",
      "Storing forecast weather data...\n",
      "Weather data stored.\n"
     ]
    }
   ],
   "source": [
    "first_time = True\n",
    "if first_time:\n",
    "    historical_weather, condensed, todays_forecast = weather.weather_main()\n",
    "    print(\"Storing historical weather data...\")\n",
    "    weather.store_weather_data(historical_weather, \"historical_raw\")\n",
    "    print(\"Storing historical summary data...\")\n",
    "    weather.store_weather_data(condensed, \"historical_summary\")\n",
    "    print(\"Storing forecast weather data...\")\n",
    "    weather.store_weather_data(todays_forecast, \"forecast\")\n",
    "    print(\"Weather data stored.\")"
   ]
  },
  {
   "cell_type": "code",
   "execution_count": 2,
   "metadata": {},
   "outputs": [
    {
     "name": "stdout",
     "output_type": "stream",
     "text": [
      "Getting weather data for Seattle\n",
      "Coordinates 52.5483283996582°N 13.407821655273438°E\n",
      "Elevation 38.0 m asl\n",
      "Timezone None None\n",
      "Timezone difference to GMT+0 0 s\n",
      "Getting weather codes\n",
      "Analyzing and weighing weather data\n",
      "Getting today's forecast\n",
      "Coordinates 52.52000045776367°N 13.419998168945312°E\n",
      "Elevation 38.0 m asl\n",
      "Timezone b'America/Los_Angeles' b'PDT'\n",
      "Timezone difference to GMT+0 -25200 s\n"
     ]
    }
   ],
   "source": [
    "historical_weather, condensed, todays_forecast = weather.weather_main()"
   ]
  },
  {
   "cell_type": "code",
   "execution_count": 3,
   "metadata": {},
   "outputs": [
    {
     "data": {
      "text/html": [
       "<div>\n",
       "<style scoped>\n",
       "    .dataframe tbody tr th:only-of-type {\n",
       "        vertical-align: middle;\n",
       "    }\n",
       "\n",
       "    .dataframe tbody tr th {\n",
       "        vertical-align: top;\n",
       "    }\n",
       "\n",
       "    .dataframe thead th {\n",
       "        text-align: right;\n",
       "    }\n",
       "</style>\n",
       "<table border=\"1\" class=\"dataframe\">\n",
       "  <thead>\n",
       "    <tr style=\"text-align: right;\">\n",
       "      <th></th>\n",
       "      <th>date</th>\n",
       "      <th>description</th>\n",
       "      <th>season</th>\n",
       "      <th>weather_score_weighted</th>\n",
       "      <th>weight</th>\n",
       "      <th>weather_score</th>\n",
       "      <th>weather_code</th>\n",
       "      <th>temperature_2m_min</th>\n",
       "      <th>temperature_2m_max</th>\n",
       "      <th>precipitation_sum</th>\n",
       "      <th>rain_sum</th>\n",
       "      <th>snowfall_sum</th>\n",
       "      <th>daylight_duration</th>\n",
       "      <th>sunshine_duration</th>\n",
       "      <th>precipitation_hours</th>\n",
       "      <th>wind_speed_10m_max</th>\n",
       "      <th>wind_gusts_10m_max</th>\n",
       "      <th>shortwave_radiation_sum</th>\n",
       "    </tr>\n",
       "  </thead>\n",
       "  <tbody>\n",
       "    <tr>\n",
       "      <th>0</th>\n",
       "      <td>2024-05-30 07:00:00+00:00</td>\n",
       "      <td>Thunderstorm</td>\n",
       "      <td>spring</td>\n",
       "      <td>-21028.84375</td>\n",
       "      <td>-21028.84375</td>\n",
       "      <td>0</td>\n",
       "      <td>95.0</td>\n",
       "      <td>56.291901</td>\n",
       "      <td>68.891899</td>\n",
       "      <td>0.173228</td>\n",
       "      <td>0.149606</td>\n",
       "      <td>0.0</td>\n",
       "      <td>59242.207031</td>\n",
       "      <td>10474.585938</td>\n",
       "      <td>5.0</td>\n",
       "      <td>7.214108</td>\n",
       "      <td>23.9359</td>\n",
       "      <td>11.53</td>\n",
       "    </tr>\n",
       "  </tbody>\n",
       "</table>\n",
       "</div>"
      ],
      "text/plain": [
       "                       date   description  season  weather_score_weighted  \\\n",
       "0 2024-05-30 07:00:00+00:00  Thunderstorm  spring            -21028.84375   \n",
       "\n",
       "        weight  weather_score  weather_code  temperature_2m_min  \\\n",
       "0 -21028.84375              0          95.0           56.291901   \n",
       "\n",
       "   temperature_2m_max  precipitation_sum  rain_sum  snowfall_sum  \\\n",
       "0           68.891899           0.173228  0.149606           0.0   \n",
       "\n",
       "   daylight_duration  sunshine_duration  precipitation_hours  \\\n",
       "0       59242.207031       10474.585938                  5.0   \n",
       "\n",
       "   wind_speed_10m_max  wind_gusts_10m_max  shortwave_radiation_sum  \n",
       "0            7.214108             23.9359                    11.53  "
      ]
     },
     "execution_count": 3,
     "metadata": {},
     "output_type": "execute_result"
    }
   ],
   "source": [
    "todays_forecast"
   ]
  },
  {
   "cell_type": "code",
   "execution_count": 3,
   "metadata": {},
   "outputs": [],
   "source": [
    "data = weather.get_stored_weather('weather.historical_raw', 'seattle')"
   ]
  },
  {
   "cell_type": "code",
   "execution_count": 5,
   "metadata": {},
   "outputs": [],
   "source": [
    "data = weather.get_stored_weather('weather.historical_summary', 'seattle')"
   ]
  },
  {
   "cell_type": "code",
   "execution_count": 7,
   "metadata": {},
   "outputs": [],
   "source": [
    "data = weather.get_stored_weather('weather.forecast', 'seattle')"
   ]
  },
  {
   "cell_type": "code",
   "execution_count": 12,
   "metadata": {},
   "outputs": [
    {
     "data": {
      "text/plain": [
       "_id                            66595352843d9009e9d953af\n",
       "date                                2024-05-30 07:00:00\n",
       "weather_code                                       95.0\n",
       "temperature_2m_max                            68.891899\n",
       "temperature_2m_min                            56.291901\n",
       "apparent_temperature_max                      69.748787\n",
       "apparent_temperature_min                      56.824406\n",
       "sunrise                                               0\n",
       "sunset                                                0\n",
       "daylight_duration                          59242.207031\n",
       "sunshine_duration                          10474.585938\n",
       "precipitation_sum                              0.173228\n",
       "rain_sum                                       0.149606\n",
       "snowfall_sum                                        0.0\n",
       "precipitation_hours                                 5.0\n",
       "wind_speed_10m_max                             7.214108\n",
       "wind_gusts_10m_max                              23.9359\n",
       "wind_direction_10m_dominant                   90.737625\n",
       "shortwave_radiation_sum                           11.53\n",
       "season                                           spring\n",
       "description                                Thunderstorm\n",
       "weather_score                                         0\n",
       "weight                                     -21028.84375\n",
       "weather_score_weighted                     -21028.84375\n",
       "event                                             Storm\n",
       "Name: 0, dtype: object"
      ]
     },
     "execution_count": 12,
     "metadata": {},
     "output_type": "execute_result"
    }
   ],
   "source": [
    "data = pd.DataFrame(data)\n",
    "\n",
    "# Assuming 'date' is the column with dates and 'data' is your DataFrame\n",
    "data['date'] = pd.to_datetime(data['date'])  # Ensure the date column is in datetime format\n",
    "data.loc[data['date'].idxmax()]"
   ]
  },
  {
   "cell_type": "code",
   "execution_count": 15,
   "metadata": {},
   "outputs": [
    {
     "data": {
      "text/plain": [
       "0   -21028.84375\n",
       "Name: weather_score_weighted, dtype: float64"
      ]
     },
     "execution_count": 15,
     "metadata": {},
     "output_type": "execute_result"
    }
   ],
   "source": [
    "todays_forecast['weather_score_weighted']"
   ]
  },
  {
   "cell_type": "code",
   "execution_count": 13,
   "metadata": {},
   "outputs": [
    {
     "ename": "TypeError",
     "evalue": "list indices must be integers or slices, not str",
     "output_type": "error",
     "traceback": [
      "\u001b[1;31m---------------------------------------------------------------------------\u001b[0m",
      "\u001b[1;31mTypeError\u001b[0m                                 Traceback (most recent call last)",
      "Cell \u001b[1;32mIn[13], line 3\u001b[0m\n\u001b[0;32m      1\u001b[0m \u001b[38;5;28;01mimport\u001b[39;00m \u001b[38;5;21;01msetup_models\u001b[39;00m\n\u001b[1;32m----> 3\u001b[0m today_score \u001b[38;5;241m=\u001b[39m setup_models\u001b[38;5;241m.\u001b[39mmain()\n\u001b[0;32m      4\u001b[0m today_score\n",
      "File \u001b[1;32md:\\Backup\\repos\\Musical-Weather\\setup_models.py:102\u001b[0m, in \u001b[0;36mmain\u001b[1;34m()\u001b[0m\n\u001b[0;32m     94\u001b[0m todays_forecast \u001b[38;5;241m=\u001b[39m get_forecast()\n\u001b[0;32m     96\u001b[0m \u001b[38;5;66;03m# weather_model = create_model(historical_weather)\u001b[39;00m\n\u001b[0;32m     97\u001b[0m \n\u001b[0;32m     98\u001b[0m \u001b[38;5;66;03m# todays_forecast = predict_weather_event(todays_forecast, weather_model)\u001b[39;00m\n\u001b[0;32m     99\u001b[0m \n\u001b[0;32m    100\u001b[0m \u001b[38;5;66;03m# store_forecast(todays_forecast)\u001b[39;00m\n\u001b[1;32m--> 102\u001b[0m todays_score \u001b[38;5;241m=\u001b[39m get_todays_score(todays_forecast)\n\u001b[0;32m    104\u001b[0m \u001b[38;5;66;03m# get_music_selection(todays_forecast, todays_score)\u001b[39;00m\n\u001b[0;32m    106\u001b[0m \u001b[38;5;28;01mreturn\u001b[39;00m todays_score\n",
      "File \u001b[1;32md:\\Backup\\repos\\Musical-Weather\\setup_models.py:65\u001b[0m, in \u001b[0;36mget_todays_score\u001b[1;34m(todays_forecast)\u001b[0m\n\u001b[0;32m     64\u001b[0m \u001b[38;5;28;01mdef\u001b[39;00m \u001b[38;5;21mget_todays_score\u001b[39m(todays_forecast):\n\u001b[1;32m---> 65\u001b[0m     \u001b[38;5;28;01mreturn\u001b[39;00m todays_forecast[\u001b[38;5;124m'\u001b[39m\u001b[38;5;124mweather_score_weighted\u001b[39m\u001b[38;5;124m'\u001b[39m]\n",
      "\u001b[1;31mTypeError\u001b[0m: list indices must be integers or slices, not str"
     ]
    }
   ],
   "source": [
    "import setup_models\n",
    "\n",
    "today_score = setup_models.main()\n",
    "today_score"
   ]
  }
 ],
 "metadata": {
  "kernelspec": {
   "display_name": "base",
   "language": "python",
   "name": "python3"
  },
  "language_info": {
   "codemirror_mode": {
    "name": "ipython",
    "version": 3
   },
   "file_extension": ".py",
   "mimetype": "text/x-python",
   "name": "python",
   "nbconvert_exporter": "python",
   "pygments_lexer": "ipython3",
   "version": "3.11.7"
  }
 },
 "nbformat": 4,
 "nbformat_minor": 2
}
